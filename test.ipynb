{
 "cells": [
  {
   "cell_type": "code",
   "execution_count": 8,
   "metadata": {},
   "outputs": [],
   "source": [
    "import numpy as np\n",
    "import pandas as pd\n",
    "import math\n",
    "\n",
    "# completematrxi_distance\n",
    "# [[  0.         148.92279879 254.71650908]\n",
    "#  [145.34441854  16.2788206  217.86807935]\n",
    "#  [164.22241016  55.75840744 146.46671977]]\n",
    "# completematrxi_features\n",
    "# [[0.04106599 0.67065434 0.71662986]\n",
    "#  [0.66293585 0.14071851 0.29952253]\n",
    "#  [0.71140101 0.20902332 0.04381659]]\n",
    "# distance\n",
    "# [[0.    0.    0.001]]\n",
    "# features\n",
    "# [[0.         0.         0.04106599]\n",
    "#  [1.         1.         0.14071851]\n",
    "#  [2.         2.         0.04381659]]\n"
   ]
  },
  {
   "cell_type": "code",
   "execution_count": 40,
   "metadata": {},
   "outputs": [
    {
     "name": "stdout",
     "output_type": "stream",
     "text": [
      "[[1.00000000e-03 9.99900000e+03 9.99900000e+03]\n",
      " [9.99900000e+03 1.62788206e+01 9.99900000e+03]\n",
      " [9.99900000e+03 5.57584074e+01 9.99900000e+03]]\n",
      "[[1.00000000e-03 0.00000000e+00 9.99900000e+03]\n",
      " [0.00000000e+00 1.62788206e+01 9.99900000e+03]\n",
      " [0.00000000e+00 0.00000000e+00 9.99900000e+03]]\n"
     ]
    },
    {
     "data": {
      "text/plain": [
       "array([[0.00000000e+00, 0.00000000e+00, 1.00000000e-03],\n",
       "       [1.00000000e+00, 1.00000000e+00, 1.62788206e+01]])"
      ]
     },
     "execution_count": 40,
     "metadata": {},
     "output_type": "execute_result"
    }
   ],
   "source": [
    "bhattacharya_matrix = np.array( [[0.04106599, 0.67065434, 0.71662986],\n",
    "                                 [0.66293585, 0.14071851, 0.29952253],\n",
    "                                 [0.71140101, 0.20902332, 0.04381659]])\n",
    "\n",
    "bhattacharya_matrix = np.array([[  0.        , 148.92279879, 254.71650908],\n",
    "                                [145.34441854,  16.2788206 , 217.86807935],\n",
    "                                [164.22241016,  55.75840744, 146.46671977]])\n",
    "\n",
    "bhattacharya_matrix[np.where(bhattacharya_matrix  == 0)] = 0.001\n",
    "bhattacharya_matrix[np.where(bhattacharya_matrix > 140)] = 9999\n",
    "# get min values in each row\n",
    "result = np.multiply(bhattacharya_matrix, bhattacharya_matrix == np.min(bhattacharya_matrix, 1)[:, None])\n",
    "\n",
    "df = pd.DataFrame(result.T)\n",
    "\n",
    "row_sum = np.sum(df, axis=1)\n",
    "df1 = df[row_sum != 0].drop_duplicates()\n",
    "df0 = df[row_sum == 0]\n",
    "\n",
    "index0 = df0.index.values\n",
    "index1 = df1.index.values\n",
    "\n",
    "results = np.arange(0, (np.max(np.hstack([index0, index1]))))\n",
    "results2 = np.hstack([index0, index1])\n",
    "\n",
    "remove_objs = np.setdiff1d(results, results2)\n",
    "\n",
    "result = pd.concat([df1, df0]).sort_index().values.T\n",
    "\n",
    "# set all the 0 values as 10\n",
    "result[np.where(result == 0)] = 9999\n",
    "print(result)\n",
    "# get min values in each col ( will be less than zero )\n",
    "result = np.multiply(result, result == np.min(result, 0)[None, :])\n",
    "\n",
    "print(result)\n",
    "result[np.where(result == 9999)] = None\n",
    "result[np.where(result == 0)] = None\n",
    "\n",
    "pairs = np.argwhere(~np.isnan(result))\n",
    "\n",
    "pairs_values = result[~np.isnan(result)]\n",
    "pairs_values = pairs_values[:, np.newaxis]\n",
    "\n",
    "pairs = np.concatenate((pairs, pairs_values), axis=1)\n",
    "known_but_not_detected = np.argwhere(np.all(np.isnan(result), axis=0)).flatten()\n",
    "new_obj = np.argwhere(np.all(np.isnan(result), axis=1)).flatten()\n",
    "\n",
    "pairs"
   ]
  },
  {
   "cell_type": "code",
   "execution_count": 62,
   "metadata": {},
   "outputs": [
    {
     "name": "stdout",
     "output_type": "stream",
     "text": [
      "[[0.00000000e+00 0.00000000e+00 4.10659900e-02 1.00000000e-03]\n",
      " [1.00000000e+00 1.00000000e+00 1.40718510e-01 1.62788206e+01]]\n"
     ]
    }
   ],
   "source": [
    "a = np.array([[0.        , 0.        , 0.04106599],\n",
    "       [1.        , 1.        , 0.14071851],\n",
    "       [2.        , 2.        , 0.04381659]])\n",
    "\n",
    "b = np.array([[0.00000000e+00, 0.00000000e+00, 1.00000000e-03],\n",
    "       [1.00000000e+00, 1.00000000e+00, 1.62788206e+01]])\n",
    "\n",
    "if a.shape[0] > b.shape[0]:\n",
    "    arr_A = a\n",
    "    arr_B = b\n",
    "else:\n",
    "    arr_B = a\n",
    "    arr_A = b\n",
    "\n",
    "final_array = np.empty((0,4))\n",
    "for idx, row in enumerate(arr_B[:,0:2]):\n",
    "    final_array = np.vstack((final_array,np.array([arr_A[idx,0], arr_A[idx,1], arr_A[idx,2], arr_B[idx,2]])))\n",
    "\n",
    "print(final_array)\n",
    "\n",
    "\n",
    "\n",
    "    def distance_calc(self, x1, y1, x2, y2):\n",
    "        return math.sqrt(((x2 - x1) ** 2) + ((y2 - y1) ** 2))\n",
    "\n"
   ]
  },
  {
   "cell_type": "code",
   "execution_count": 63,
   "metadata": {},
   "outputs": [
    {
     "name": "stdout",
     "output_type": "stream",
     "text": [
      "239.60383970212163\n",
      "3.605551275463989\n",
      "4.031128874149275\n",
      "1.5\n"
     ]
    }
   ],
   "source": [
    "# 493.0 464.0\n",
    "# 650.0 283.5\n",
    "# 653.0 285.0\n",
    "# 653.5 289.0\n",
    "# 653.5 287.5\n",
    "\n",
    "def distance_calc(x1,y1,x2,y2):\n",
    "    return math.sqrt(((x2 - x1) ** 2) +  ((y2 - y1) ** 2))\n",
    "\n",
    "print(distance_calc(493,464,650,283))\n",
    "print(distance_calc(650,283,653,285))\n",
    "print(distance_calc(653,285,653.5,289))\n",
    "print(distance_calc(653.5,289,653.5,287.5))"
   ]
  }
 ],
 "metadata": {
  "kernelspec": {
   "display_name": "Python 3",
   "language": "python",
   "name": "python3"
  },
  "language_info": {
   "codemirror_mode": {
    "name": "ipython",
    "version": 3
   },
   "file_extension": ".py",
   "mimetype": "text/x-python",
   "name": "python",
   "nbconvert_exporter": "python",
   "pygments_lexer": "ipython3",
   "version": "3.7.1"
  }
 },
 "nbformat": 4,
 "nbformat_minor": 2
}
